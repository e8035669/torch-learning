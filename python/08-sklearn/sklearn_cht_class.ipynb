{
 "cells": [
  {
   "cell_type": "code",
   "execution_count": 3,
   "metadata": {},
   "outputs": [],
   "source": [
    "import pandas as pd"
   ]
  },
  {
   "cell_type": "code",
   "execution_count": 4,
   "metadata": {},
   "outputs": [
    {
     "name": "stdout",
     "output_type": "stream",
     "text": [
      "<class 'pandas.core.frame.DataFrame'>\n",
      "(503, 50)\n"
     ]
    }
   ],
   "source": [
    "csv_url = \"https://raw.githubusercontent.com/yaojenkuo/ml-newbies/master/player_stats.csv\"\n",
    "player_stats = pd.read_csv(csv_url)\n",
    "print(type(player_stats))\n",
    "print(player_stats.shape)\n"
   ]
  },
  {
   "cell_type": "code",
   "execution_count": 5,
   "metadata": {},
   "outputs": [
    {
     "data": {
      "text/html": [
       "<div>\n",
       "<style scoped>\n",
       "    .dataframe tbody tr th:only-of-type {\n",
       "        vertical-align: middle;\n",
       "    }\n",
       "\n",
       "    .dataframe tbody tr th {\n",
       "        vertical-align: top;\n",
       "    }\n",
       "\n",
       "    .dataframe thead th {\n",
       "        text-align: right;\n",
       "    }\n",
       "</style>\n",
       "<table border=\"1\" class=\"dataframe\">\n",
       "  <thead>\n",
       "    <tr style=\"text-align: right;\">\n",
       "      <th></th>\n",
       "      <th>firstName</th>\n",
       "      <th>lastName</th>\n",
       "      <th>temporaryDisplayName</th>\n",
       "      <th>personId</th>\n",
       "      <th>teamId</th>\n",
       "      <th>jersey</th>\n",
       "      <th>isActive</th>\n",
       "      <th>pos</th>\n",
       "      <th>heightFeet</th>\n",
       "      <th>heightInches</th>\n",
       "      <th>...</th>\n",
       "      <th>ftm</th>\n",
       "      <th>fta</th>\n",
       "      <th>pFouls</th>\n",
       "      <th>points</th>\n",
       "      <th>gamesPlayed</th>\n",
       "      <th>gamesStarted</th>\n",
       "      <th>plusMinus</th>\n",
       "      <th>min</th>\n",
       "      <th>dd2</th>\n",
       "      <th>td3</th>\n",
       "    </tr>\n",
       "  </thead>\n",
       "  <tbody>\n",
       "    <tr>\n",
       "      <th>0</th>\n",
       "      <td>Precious</td>\n",
       "      <td>Achiuwa</td>\n",
       "      <td>Achiuwa, Precious</td>\n",
       "      <td>1630173</td>\n",
       "      <td>1610612748</td>\n",
       "      <td>5.0</td>\n",
       "      <td>True</td>\n",
       "      <td>F</td>\n",
       "      <td>6</td>\n",
       "      <td>8</td>\n",
       "      <td>...</td>\n",
       "      <td>56.0</td>\n",
       "      <td>110.0</td>\n",
       "      <td>91.0</td>\n",
       "      <td>304.0</td>\n",
       "      <td>61.0</td>\n",
       "      <td>4.0</td>\n",
       "      <td>-116.0</td>\n",
       "      <td>737.0</td>\n",
       "      <td>3.0</td>\n",
       "      <td>0.0</td>\n",
       "    </tr>\n",
       "    <tr>\n",
       "      <th>1</th>\n",
       "      <td>Steven</td>\n",
       "      <td>Adams</td>\n",
       "      <td>Adams, Steven</td>\n",
       "      <td>203500</td>\n",
       "      <td>1610612740</td>\n",
       "      <td>12.0</td>\n",
       "      <td>True</td>\n",
       "      <td>C</td>\n",
       "      <td>6</td>\n",
       "      <td>11</td>\n",
       "      <td>...</td>\n",
       "      <td>936.0</td>\n",
       "      <td>1708.0</td>\n",
       "      <td>1497.0</td>\n",
       "      <td>5629.0</td>\n",
       "      <td>588.0</td>\n",
       "      <td>524.0</td>\n",
       "      <td>1638.0</td>\n",
       "      <td>15812.0</td>\n",
       "      <td>125.0</td>\n",
       "      <td>1.0</td>\n",
       "    </tr>\n",
       "    <tr>\n",
       "      <th>2</th>\n",
       "      <td>Bam</td>\n",
       "      <td>Adebayo</td>\n",
       "      <td>Adebayo, Bam</td>\n",
       "      <td>1628389</td>\n",
       "      <td>1610612748</td>\n",
       "      <td>13.0</td>\n",
       "      <td>True</td>\n",
       "      <td>C-F</td>\n",
       "      <td>6</td>\n",
       "      <td>9</td>\n",
       "      <td>...</td>\n",
       "      <td>842.0</td>\n",
       "      <td>1141.0</td>\n",
       "      <td>668.0</td>\n",
       "      <td>3549.0</td>\n",
       "      <td>287.0</td>\n",
       "      <td>183.0</td>\n",
       "      <td>258.0</td>\n",
       "      <td>7840.0</td>\n",
       "      <td>91.0</td>\n",
       "      <td>5.0</td>\n",
       "    </tr>\n",
       "    <tr>\n",
       "      <th>3</th>\n",
       "      <td>Ty-Shon</td>\n",
       "      <td>Alexander</td>\n",
       "      <td>Alexander, Ty-Shon</td>\n",
       "      <td>1630234</td>\n",
       "      <td>1610612756</td>\n",
       "      <td>0.0</td>\n",
       "      <td>True</td>\n",
       "      <td>G</td>\n",
       "      <td>6</td>\n",
       "      <td>3</td>\n",
       "      <td>...</td>\n",
       "      <td>1.0</td>\n",
       "      <td>2.0</td>\n",
       "      <td>2.0</td>\n",
       "      <td>9.0</td>\n",
       "      <td>15.0</td>\n",
       "      <td>0.0</td>\n",
       "      <td>-8.0</td>\n",
       "      <td>47.0</td>\n",
       "      <td>0.0</td>\n",
       "      <td>0.0</td>\n",
       "    </tr>\n",
       "    <tr>\n",
       "      <th>4</th>\n",
       "      <td>Nickeil</td>\n",
       "      <td>Alexander-Walker</td>\n",
       "      <td>Alexander-Walker, Nickeil</td>\n",
       "      <td>1629638</td>\n",
       "      <td>1610612740</td>\n",
       "      <td>6.0</td>\n",
       "      <td>True</td>\n",
       "      <td>G</td>\n",
       "      <td>6</td>\n",
       "      <td>6</td>\n",
       "      <td>...</td>\n",
       "      <td>73.0</td>\n",
       "      <td>103.0</td>\n",
       "      <td>145.0</td>\n",
       "      <td>775.0</td>\n",
       "      <td>93.0</td>\n",
       "      <td>14.0</td>\n",
       "      <td>-105.0</td>\n",
       "      <td>1597.0</td>\n",
       "      <td>0.0</td>\n",
       "      <td>0.0</td>\n",
       "    </tr>\n",
       "    <tr>\n",
       "      <th>...</th>\n",
       "      <td>...</td>\n",
       "      <td>...</td>\n",
       "      <td>...</td>\n",
       "      <td>...</td>\n",
       "      <td>...</td>\n",
       "      <td>...</td>\n",
       "      <td>...</td>\n",
       "      <td>...</td>\n",
       "      <td>...</td>\n",
       "      <td>...</td>\n",
       "      <td>...</td>\n",
       "      <td>...</td>\n",
       "      <td>...</td>\n",
       "      <td>...</td>\n",
       "      <td>...</td>\n",
       "      <td>...</td>\n",
       "      <td>...</td>\n",
       "      <td>...</td>\n",
       "      <td>...</td>\n",
       "      <td>...</td>\n",
       "      <td>...</td>\n",
       "    </tr>\n",
       "    <tr>\n",
       "      <th>498</th>\n",
       "      <td>Thaddeus</td>\n",
       "      <td>Young</td>\n",
       "      <td>Young, Thaddeus</td>\n",
       "      <td>201152</td>\n",
       "      <td>1610612741</td>\n",
       "      <td>21.0</td>\n",
       "      <td>True</td>\n",
       "      <td>F</td>\n",
       "      <td>6</td>\n",
       "      <td>8</td>\n",
       "      <td>...</td>\n",
       "      <td>1370.0</td>\n",
       "      <td>2053.0</td>\n",
       "      <td>2268.0</td>\n",
       "      <td>13526.0</td>\n",
       "      <td>1033.0</td>\n",
       "      <td>710.0</td>\n",
       "      <td>-157.0</td>\n",
       "      <td>30932.0</td>\n",
       "      <td>109.0</td>\n",
       "      <td>0.0</td>\n",
       "    </tr>\n",
       "    <tr>\n",
       "      <th>499</th>\n",
       "      <td>Trae</td>\n",
       "      <td>Young</td>\n",
       "      <td>Young, Trae</td>\n",
       "      <td>1629027</td>\n",
       "      <td>1610612737</td>\n",
       "      <td>11.0</td>\n",
       "      <td>True</td>\n",
       "      <td>G</td>\n",
       "      <td>6</td>\n",
       "      <td>1</td>\n",
       "      <td>...</td>\n",
       "      <td>1308.0</td>\n",
       "      <td>1519.0</td>\n",
       "      <td>355.0</td>\n",
       "      <td>4921.0</td>\n",
       "      <td>204.0</td>\n",
       "      <td>204.0</td>\n",
       "      <td>-295.0</td>\n",
       "      <td>6748.0</td>\n",
       "      <td>86.0</td>\n",
       "      <td>3.0</td>\n",
       "    </tr>\n",
       "    <tr>\n",
       "      <th>500</th>\n",
       "      <td>Omer</td>\n",
       "      <td>Yurtseven</td>\n",
       "      <td>Yurtseven, Omer</td>\n",
       "      <td>1630209</td>\n",
       "      <td>1610612748</td>\n",
       "      <td>77.0</td>\n",
       "      <td>True</td>\n",
       "      <td>C</td>\n",
       "      <td>7</td>\n",
       "      <td>0</td>\n",
       "      <td>...</td>\n",
       "      <td>NaN</td>\n",
       "      <td>NaN</td>\n",
       "      <td>NaN</td>\n",
       "      <td>NaN</td>\n",
       "      <td>NaN</td>\n",
       "      <td>NaN</td>\n",
       "      <td>NaN</td>\n",
       "      <td>NaN</td>\n",
       "      <td>NaN</td>\n",
       "      <td>NaN</td>\n",
       "    </tr>\n",
       "    <tr>\n",
       "      <th>501</th>\n",
       "      <td>Cody</td>\n",
       "      <td>Zeller</td>\n",
       "      <td>Zeller, Cody</td>\n",
       "      <td>203469</td>\n",
       "      <td>1610612766</td>\n",
       "      <td>40.0</td>\n",
       "      <td>True</td>\n",
       "      <td>F-C</td>\n",
       "      <td>6</td>\n",
       "      <td>11</td>\n",
       "      <td>...</td>\n",
       "      <td>960.0</td>\n",
       "      <td>1316.0</td>\n",
       "      <td>1225.0</td>\n",
       "      <td>4062.0</td>\n",
       "      <td>467.0</td>\n",
       "      <td>273.0</td>\n",
       "      <td>196.0</td>\n",
       "      <td>10618.0</td>\n",
       "      <td>37.0</td>\n",
       "      <td>0.0</td>\n",
       "    </tr>\n",
       "    <tr>\n",
       "      <th>502</th>\n",
       "      <td>Ivica</td>\n",
       "      <td>Zubac</td>\n",
       "      <td>Zubac, Ivica</td>\n",
       "      <td>1627826</td>\n",
       "      <td>1610612746</td>\n",
       "      <td>40.0</td>\n",
       "      <td>True</td>\n",
       "      <td>C</td>\n",
       "      <td>7</td>\n",
       "      <td>0</td>\n",
       "      <td>...</td>\n",
       "      <td>431.0</td>\n",
       "      <td>563.0</td>\n",
       "      <td>605.0</td>\n",
       "      <td>2216.0</td>\n",
       "      <td>284.0</td>\n",
       "      <td>151.0</td>\n",
       "      <td>357.0</td>\n",
       "      <td>4992.0</td>\n",
       "      <td>36.0</td>\n",
       "      <td>0.0</td>\n",
       "    </tr>\n",
       "  </tbody>\n",
       "</table>\n",
       "<p>503 rows × 50 columns</p>\n",
       "</div>"
      ],
      "text/plain": [
       "    firstName          lastName       temporaryDisplayName  personId  \\\n",
       "0    Precious           Achiuwa          Achiuwa, Precious   1630173   \n",
       "1      Steven             Adams              Adams, Steven    203500   \n",
       "2         Bam           Adebayo               Adebayo, Bam   1628389   \n",
       "3     Ty-Shon         Alexander         Alexander, Ty-Shon   1630234   \n",
       "4     Nickeil  Alexander-Walker  Alexander-Walker, Nickeil   1629638   \n",
       "..        ...               ...                        ...       ...   \n",
       "498  Thaddeus             Young            Young, Thaddeus    201152   \n",
       "499      Trae             Young                Young, Trae   1629027   \n",
       "500      Omer         Yurtseven            Yurtseven, Omer   1630209   \n",
       "501      Cody            Zeller               Zeller, Cody    203469   \n",
       "502     Ivica             Zubac               Zubac, Ivica   1627826   \n",
       "\n",
       "         teamId  jersey  isActive  pos  heightFeet  heightInches  ...     ftm  \\\n",
       "0    1610612748     5.0      True    F           6             8  ...    56.0   \n",
       "1    1610612740    12.0      True    C           6            11  ...   936.0   \n",
       "2    1610612748    13.0      True  C-F           6             9  ...   842.0   \n",
       "3    1610612756     0.0      True    G           6             3  ...     1.0   \n",
       "4    1610612740     6.0      True    G           6             6  ...    73.0   \n",
       "..          ...     ...       ...  ...         ...           ...  ...     ...   \n",
       "498  1610612741    21.0      True    F           6             8  ...  1370.0   \n",
       "499  1610612737    11.0      True    G           6             1  ...  1308.0   \n",
       "500  1610612748    77.0      True    C           7             0  ...     NaN   \n",
       "501  1610612766    40.0      True  F-C           6            11  ...   960.0   \n",
       "502  1610612746    40.0      True    C           7             0  ...   431.0   \n",
       "\n",
       "        fta  pFouls   points  gamesPlayed  gamesStarted plusMinus      min  \\\n",
       "0     110.0    91.0    304.0         61.0           4.0    -116.0    737.0   \n",
       "1    1708.0  1497.0   5629.0        588.0         524.0    1638.0  15812.0   \n",
       "2    1141.0   668.0   3549.0        287.0         183.0     258.0   7840.0   \n",
       "3       2.0     2.0      9.0         15.0           0.0      -8.0     47.0   \n",
       "4     103.0   145.0    775.0         93.0          14.0    -105.0   1597.0   \n",
       "..      ...     ...      ...          ...           ...       ...      ...   \n",
       "498  2053.0  2268.0  13526.0       1033.0         710.0    -157.0  30932.0   \n",
       "499  1519.0   355.0   4921.0        204.0         204.0    -295.0   6748.0   \n",
       "500     NaN     NaN      NaN          NaN           NaN       NaN      NaN   \n",
       "501  1316.0  1225.0   4062.0        467.0         273.0     196.0  10618.0   \n",
       "502   563.0   605.0   2216.0        284.0         151.0     357.0   4992.0   \n",
       "\n",
       "       dd2  td3  \n",
       "0      3.0  0.0  \n",
       "1    125.0  1.0  \n",
       "2     91.0  5.0  \n",
       "3      0.0  0.0  \n",
       "4      0.0  0.0  \n",
       "..     ...  ...  \n",
       "498  109.0  0.0  \n",
       "499   86.0  3.0  \n",
       "500    NaN  NaN  \n",
       "501   37.0  0.0  \n",
       "502   36.0  0.0  \n",
       "\n",
       "[503 rows x 50 columns]"
      ]
     },
     "execution_count": 5,
     "metadata": {},
     "output_type": "execute_result"
    }
   ],
   "source": [
    "player_stats"
   ]
  },
  {
   "cell_type": "code",
   "execution_count": 7,
   "metadata": {},
   "outputs": [
    {
     "data": {
      "text/plain": [
       "Index(['firstName', 'lastName', 'temporaryDisplayName', 'personId', 'teamId',\n",
       "       'jersey', 'isActive', 'pos', 'heightFeet', 'heightInches',\n",
       "       'heightMeters', 'weightPounds', 'weightKilograms', 'dateOfBirthUTC',\n",
       "       'nbaDebutYear', 'yearsPro', 'collegeName', 'lastAffiliation', 'country',\n",
       "       'isallStar', 'tpp', 'ftp', 'fgp', 'ppg', 'rpg', 'apg', 'bpg', 'mpg',\n",
       "       'spg', 'assists', 'blocks', 'steals', 'turnovers', 'offReb', 'defReb',\n",
       "       'totReb', 'fgm', 'fga', 'tpm', 'tpa', 'ftm', 'fta', 'pFouls', 'points',\n",
       "       'gamesPlayed', 'gamesStarted', 'plusMinus', 'min', 'dd2', 'td3'],\n",
       "      dtype='object')"
      ]
     },
     "execution_count": 7,
     "metadata": {},
     "output_type": "execute_result"
    }
   ],
   "source": [
    "player_stats.keys()"
   ]
  },
  {
   "cell_type": "code",
   "execution_count": 14,
   "metadata": {},
   "outputs": [
    {
     "name": "stdout",
     "output_type": "stream",
     "text": [
      "(503, 2)\n",
      "(503,)\n"
     ]
    }
   ],
   "source": [
    "X = player_stats[['apg', 'rpg']].values\n",
    "Y = player_stats['pos'].values\n",
    "print(X.shape)\n",
    "print(Y.shape)"
   ]
  },
  {
   "cell_type": "code",
   "execution_count": 16,
   "metadata": {},
   "outputs": [],
   "source": [
    "X = player_stats[['weightKilograms']].values\n",
    "Y = player_stats['heightMeters'].values\n",
    "#print(X)\n",
    "#print(Y)"
   ]
  },
  {
   "cell_type": "code",
   "execution_count": 20,
   "metadata": {},
   "outputs": [],
   "source": [
    "from sklearn.preprocessing import PolynomialFeatures, StandardScaler\n",
    "from sklearn.linear_model import LinearRegression, Ridge"
   ]
  },
  {
   "cell_type": "code",
   "execution_count": 21,
   "metadata": {},
   "outputs": [],
   "source": [
    "pf = PolynomialFeatures()\n",
    "ss = StandardScaler()\n",
    "\n",
    "lr = LinearRegression()\n",
    "ridge = Ridge()"
   ]
  },
  {
   "cell_type": "code",
   "execution_count": 22,
   "metadata": {},
   "outputs": [
    {
     "data": {
      "text/plain": [
       "LinearRegression()"
      ]
     },
     "execution_count": 22,
     "metadata": {},
     "output_type": "execute_result"
    }
   ],
   "source": [
    "lr.fit(X, Y)"
   ]
  },
  {
   "cell_type": "code",
   "execution_count": 25,
   "metadata": {},
   "outputs": [
    {
     "name": "stdout",
     "output_type": "stream",
     "text": [
      "[[102.1]]\n",
      "2.03 [2.01038663]\n"
     ]
    }
   ],
   "source": [
    "y_pred = lr.predict(X[0:1])\n",
    "print(X[0:1])\n",
    "print(Y[0], y_pred)"
   ]
  },
  {
   "cell_type": "code",
   "execution_count": null,
   "metadata": {},
   "outputs": [],
   "source": [
    "\n"
   ]
  },
  {
   "cell_type": "code",
   "execution_count": null,
   "metadata": {},
   "outputs": [],
   "source": []
  },
  {
   "cell_type": "code",
   "execution_count": null,
   "metadata": {},
   "outputs": [],
   "source": []
  },
  {
   "cell_type": "code",
   "execution_count": 29,
   "metadata": {},
   "outputs": [],
   "source": [
    "from sklearn.model_selection import train_test_split"
   ]
  },
  {
   "cell_type": "code",
   "execution_count": 30,
   "metadata": {},
   "outputs": [],
   "source": [
    "from xgboost import XGBClassifier"
   ]
  },
  {
   "cell_type": "code",
   "execution_count": 31,
   "metadata": {},
   "outputs": [],
   "source": [
    "X = player_stats[['heightMeters', 'apg', 'rpg']].values\n",
    "y = player_stats['weightKilograms'].values"
   ]
  },
  {
   "cell_type": "code",
   "execution_count": 36,
   "metadata": {},
   "outputs": [
    {
     "name": "stdout",
     "output_type": "stream",
     "text": [
      "(503, 3)\n",
      "(503,)\n"
     ]
    }
   ],
   "source": [
    "pos_dict = {\n",
    "    'G': 0,\n",
    "    'F': 1,\n",
    "    'C': 2\n",
    "}\n",
    "pos_recoded = player_stats['pos'].map(lambda x: x[0])\n",
    "pos_recoded_int = pos_recoded.map(pos_dict)\n",
    "X = player_stats[['heightMeters', 'apg', 'rpg']].values\n",
    "y = pos_recoded_int.values\n",
    "print(X.shape)\n",
    "print(y.shape)"
   ]
  },
  {
   "cell_type": "code",
   "execution_count": 37,
   "metadata": {},
   "outputs": [
    {
     "name": "stdout",
     "output_type": "stream",
     "text": [
      "(503, 3)\n",
      "(503,)\n"
     ]
    }
   ],
   "source": [
    "X = player_stats[['heightMeters', 'apg', 'rpg']].values\n",
    "y = pos_recoded_int.values\n",
    "print(X.shape)\n",
    "print(y.shape)"
   ]
  },
  {
   "cell_type": "code",
   "execution_count": 39,
   "metadata": {},
   "outputs": [
    {
     "name": "stdout",
     "output_type": "stream",
     "text": [
      "(402, 3)\n",
      "(101, 3)\n",
      "(402,)\n",
      "(101,)\n"
     ]
    }
   ],
   "source": [
    "X_train, X_valid, y_train, y_valid = train_test_split(X, y, test_size=0.2, random_state=42)\n",
    "print(X_train.shape)\n",
    "print(X_valid.shape)\n",
    "print(y_train.shape)\n",
    "print(y_valid.shape)"
   ]
  },
  {
   "cell_type": "code",
   "execution_count": 40,
   "metadata": {},
   "outputs": [
    {
     "data": {
      "text/plain": [
       "XGBClassifier(base_score=0.5, booster='gbtree', colsample_bylevel=1,\n",
       "              colsample_bynode=1, colsample_bytree=1, eval_metric='mlogloss',\n",
       "              gamma=0, gpu_id=-1, importance_type='gain',\n",
       "              interaction_constraints='', learning_rate=0.300000012,\n",
       "              max_delta_step=0, max_depth=6, min_child_weight=1, missing=nan,\n",
       "              monotone_constraints='()', n_estimators=100, n_jobs=12,\n",
       "              num_parallel_tree=1, objective='multi:softprob', random_state=0,\n",
       "              reg_alpha=0, reg_lambda=1, scale_pos_weight=None, subsample=1,\n",
       "              tree_method='exact', use_label_encoder=False,\n",
       "              validate_parameters=1, verbosity=None)"
      ]
     },
     "execution_count": 40,
     "metadata": {},
     "output_type": "execute_result"
    }
   ],
   "source": [
    "xgb_c = XGBClassifier(use_label_encoder=False, eval_metric='mlogloss')\n",
    "xgb_c.fit(X_train, y_train)\n"
   ]
  },
  {
   "cell_type": "code",
   "execution_count": 42,
   "metadata": {},
   "outputs": [
    {
     "name": "stdout",
     "output_type": "stream",
     "text": [
      "0.8811881188118812\n"
     ]
    }
   ],
   "source": [
    "from sklearn.metrics import accuracy_score\n",
    "y_pred = xgb_c.predict(X_valid)\n",
    "print(accuracy_score(y_valid, y_pred))\n"
   ]
  },
  {
   "cell_type": "code",
   "execution_count": null,
   "metadata": {},
   "outputs": [],
   "source": []
  },
  {
   "cell_type": "code",
   "execution_count": null,
   "metadata": {},
   "outputs": [],
   "source": []
  },
  {
   "cell_type": "code",
   "execution_count": 1,
   "metadata": {},
   "outputs": [],
   "source": [
    "import numpy as np"
   ]
  },
  {
   "cell_type": "code",
   "execution_count": 2,
   "metadata": {},
   "outputs": [
    {
     "name": "stdout",
     "output_type": "stream",
     "text": [
      "[[ 1.  1.]\n",
      " [ 1.  2.]\n",
      " [ 1.  3.]\n",
      " [ 1.  4.]\n",
      " [ 1.  5.]\n",
      " [ 1.  6.]\n",
      " [ 1.  7.]\n",
      " [ 1.  8.]\n",
      " [ 1.  9.]\n",
      " [ 1. 10.]]\n",
      "[11. 17. 23. 29. 35. 41. 47. 53. 59. 65.]\n"
     ]
    }
   ],
   "source": [
    "X0 = np.ones((10, 1))\n",
    "X1 = np.arange(1, 11).reshape(-1, 1)\n",
    "w = np.array([5, 6])\n",
    "X_train = np.concatenate([X0, X1], axis=1)\n",
    "y_train = np.dot(X_train, w)\n",
    "print(X_train) # (10, 2) dot (2,)\n",
    "print(y_train) # (10,)"
   ]
  },
  {
   "cell_type": "code",
   "execution_count": 3,
   "metadata": {},
   "outputs": [
    {
     "data": {
      "text/plain": [
       "array([0.8418736 , 0.26889344])"
      ]
     },
     "execution_count": 3,
     "metadata": {},
     "output_type": "execute_result"
    }
   ],
   "source": [
    "n = X_train.shape[1]\n",
    "w = np.random.rand(2)\n",
    "w"
   ]
  },
  {
   "cell_type": "code",
   "execution_count": 10,
   "metadata": {},
   "outputs": [
    {
     "name": "stdout",
     "output_type": "stream",
     "text": [
      "[0.45495171 0.34419288]\n",
      "1534.9664813179493\n"
     ]
    }
   ],
   "source": [
    "n = X_train.shape[1]\n",
    "w = np.random.rand(2)\n",
    "y_hat = np.dot(X_train, w)\n",
    "m = y_train.size\n",
    "j = ((y_hat - y_train).T.dot(y_hat - y_train)) / m\n",
    "print(w)\n",
    "print(j)"
   ]
  },
  {
   "cell_type": "code",
   "execution_count": 11,
   "metadata": {},
   "outputs": [
    {
     "data": {
      "text/plain": [
       "array([ -71.30397491, -485.49267946])"
      ]
     },
     "execution_count": 11,
     "metadata": {},
     "output_type": "execute_result"
    }
   ],
   "source": [
    "gradient = (2 / m) * X_train.T.dot(y_hat - y_train)\n",
    "gradient"
   ]
  },
  {
   "cell_type": "code",
   "execution_count": 12,
   "metadata": {},
   "outputs": [
    {
     "data": {
      "text/plain": [
       "array([-0.0071304 , -0.04854927])"
      ]
     },
     "execution_count": 12,
     "metadata": {},
     "output_type": "execute_result"
    }
   ],
   "source": [
    "learning_rate = 0.0001\n",
    "learning_rate * gradient"
   ]
  },
  {
   "cell_type": "code",
   "execution_count": 24,
   "metadata": {},
   "outputs": [
    {
     "name": "stdout",
     "output_type": "stream",
     "text": [
      "[4.98569025 6.00205546]\n"
     ]
    }
   ],
   "source": [
    "learning_rate = 0.0001\n",
    "for i in range(100000):\n",
    "    y_hat = np.dot(X_train, w)\n",
    "    m = y_train.size\n",
    "    j = ((y_hat - y_train).T.dot(y_hat - y_train)) / m\n",
    "    gradient = (2 / m) * X_train.T.dot(y_hat - y_train)\n",
    "    w -= learning_rate * gradient\n",
    "print(w)"
   ]
  },
  {
   "cell_type": "code",
   "execution_count": 25,
   "metadata": {},
   "outputs": [
    {
     "name": "stdout",
     "output_type": "stream",
     "text": [
      "[10.98774571 16.98980117 22.99185663 28.99391209 34.99596755 40.99802301\n",
      " 47.00007847 53.00213393 59.00418939 65.00624486]\n",
      "[11. 17. 23. 29. 35. 41. 47. 53. 59. 65.]\n"
     ]
    }
   ],
   "source": [
    "y_hat = np.dot(X_train, w)\n",
    "print(y_hat)\n",
    "print(y_train)"
   ]
  },
  {
   "cell_type": "code",
   "execution_count": 26,
   "metadata": {},
   "outputs": [
    {
     "data": {
      "text/plain": [
       "array([4.98569025, 6.00205546])"
      ]
     },
     "execution_count": 26,
     "metadata": {},
     "output_type": "execute_result"
    }
   ],
   "source": [
    "w"
   ]
  },
  {
   "cell_type": "code",
   "execution_count": null,
   "metadata": {},
   "outputs": [],
   "source": []
  }
 ],
 "metadata": {
  "kernelspec": {
   "display_name": "Python 3",
   "language": "python",
   "name": "python3"
  },
  "language_info": {
   "codemirror_mode": {
    "name": "ipython",
    "version": 3
   },
   "file_extension": ".py",
   "mimetype": "text/x-python",
   "name": "python",
   "nbconvert_exporter": "python",
   "pygments_lexer": "ipython3",
   "version": "3.8.5"
  }
 },
 "nbformat": 4,
 "nbformat_minor": 4
}
