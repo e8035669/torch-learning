{
 "cells": [
  {
   "cell_type": "code",
   "execution_count": 1,
   "id": "10c44dbd",
   "metadata": {},
   "outputs": [],
   "source": [
    "import mxnet as mx\n",
    "from mxnet import image\n",
    "from mxnet.gluon.data.vision import transforms\n",
    "import gluoncv\n",
    "\n",
    "ctx = mx.gpu(0)"
   ]
  },
  {
   "cell_type": "code",
   "execution_count": 2,
   "id": "df0acd0d",
   "metadata": {},
   "outputs": [
    {
     "name": "stdout",
     "output_type": "stream",
     "text": [
      "Downloading example.jpg from https://raw.githubusercontent.com/dmlc/web-data/master/gluoncv/segmentation/voc_examples/1.jpg...\n"
     ]
    },
    {
     "name": "stderr",
     "output_type": "stream",
     "text": [
      "100%|██████████| 24/24 [00:00<00:00, 3294.93KB/s]\n"
     ]
    },
    {
     "data": {
      "text/plain": [
       "'example.jpg'"
      ]
     },
     "execution_count": 2,
     "metadata": {},
     "output_type": "execute_result"
    }
   ],
   "source": [
    "url = 'https://raw.githubusercontent.com/dmlc/web-data/master/gluoncv/segmentation/voc_examples/1.jpg'\n",
    "filename = 'example.jpg'\n",
    "gluoncv.utils.download(url, filename)"
   ]
  },
  {
   "cell_type": "code",
   "execution_count": 12,
   "id": "9f563a2a",
   "metadata": {},
   "outputs": [
    {
     "name": "stdout",
     "output_type": "stream",
     "text": [
      "<class 'mxnet.ndarray.ndarray.NDArray'> (400, 500, 3)\n"
     ]
    }
   ],
   "source": [
    "img = image.imread(filename)\n",
    "\n",
    "from matplotlib import pyplot as plt\n",
    "print(type(img), img.shape)\n",
    "\n",
    "#plt.imshow(img.asnumpy())\n",
    "#plt.show()"
   ]
  },
  {
   "cell_type": "code",
   "execution_count": 13,
   "id": "92ec9f49",
   "metadata": {},
   "outputs": [],
   "source": [
    "from gluoncv.data.transforms.presets.segmentation import test_transform\n",
    "img = test_transform(img, ctx)"
   ]
  },
  {
   "cell_type": "code",
   "execution_count": 18,
   "id": "f333cda8",
   "metadata": {},
   "outputs": [],
   "source": [
    "model = gluoncv.model_zoo.get_model('fcn_resnet101_voc', pretrained=True, ctx=ctx)"
   ]
  },
  {
   "cell_type": "code",
   "execution_count": 19,
   "id": "b36c8361",
   "metadata": {},
   "outputs": [
    {
     "name": "stderr",
     "output_type": "stream",
     "text": [
      "[14:46:32] ../src/operator/cudnn_ops.cc:292: Auto-tuning cuDNN op, set MXNET_CUDNN_AUTOTUNE_DEFAULT to 0 to disable\n",
      "[14:46:33] ../src/operator/cudnn_ops.cc:292: Auto-tuning cuDNN op, set MXNET_CUDNN_AUTOTUNE_DEFAULT to 0 to disable\n"
     ]
    }
   ],
   "source": [
    "output = model.predict(img)\n",
    "predict = mx.nd.squeeze(mx.nd.argmax(output, 1)).asnumpy()"
   ]
  },
  {
   "cell_type": "code",
   "execution_count": 20,
   "id": "98276750",
   "metadata": {},
   "outputs": [],
   "source": [
    "from gluoncv.utils.viz import get_color_pallete\n",
    "import matplotlib.image as mpimg\n",
    "mask = get_color_pallete(predict, 'pascal_voc')\n",
    "mask.save('output.png')"
   ]
  },
  {
   "cell_type": "code",
   "execution_count": 21,
   "id": "3d525b6a",
   "metadata": {},
   "outputs": [
    {
     "data": {
      "image/png": "[encoded data removed]",
      "text/plain": [
       "<Figure size 432x288 with 1 Axes>"
      ]
     },
     "metadata": {
      "needs_background": "light"
     },
     "output_type": "display_data"
    }
   ],
   "source": [
    "mmask = mpimg.imread('output.png')\n",
    "plt.imshow(mmask)\n",
    "plt.show()"
   ]
  },
  {
   "cell_type": "code",
   "execution_count": 23,
   "id": "9651e975",
   "metadata": {},
   "outputs": [
    {
     "data": {
      "text/plain": [
       "(1, 21, 400, 500)"
      ]
     },
     "execution_count": 23,
     "metadata": {},
     "output_type": "execute_result"
    }
   ],
   "source": [
    "output.shape"
   ]
  },
  {
   "cell_type": "code",
   "execution_count": 25,
   "id": "4e13ac8b",
   "metadata": {},
   "outputs": [
    {
     "data": {
      "text/plain": [
       "array([[ 0.,  0.,  0., ...,  0.,  0.,  0.],\n",
       "       [ 0.,  0.,  0., ...,  0.,  0.,  0.],\n",
       "       [ 0.,  0.,  0., ...,  0.,  0.,  0.],\n",
       "       ...,\n",
       "       [15., 15., 15., ...,  0.,  0.,  0.],\n",
       "       [15., 15., 15., ...,  0.,  0.,  0.],\n",
       "       [15., 15., 15., ...,  0.,  0.,  0.]], dtype=float32)"
      ]
     },
     "execution_count": 25,
     "metadata": {},
     "output_type": "execute_result"
    }
   ],
   "source": [
    "predict"
   ]
  },
  {
   "cell_type": "code",
   "execution_count": null,
   "id": "2679fcbe",
   "metadata": {},
   "outputs": [],
   "source": []
  }
 ],
 "metadata": {
  "kernelspec": {
   "display_name": "Python 3 (ipykernel)",
   "language": "python",
   "name": "python3"
  },
  "language_info": {
   "codemirror_mode": {
    "name": "ipython",
    "version": 3
   },
   "file_extension": ".py",
   "mimetype": "text/x-python",
   "name": "python",
   "nbconvert_exporter": "python",
   "pygments_lexer": "ipython3",
   "version": "3.8.10"
  }
 },
 "nbformat": 4,
 "nbformat_minor": 5
}
