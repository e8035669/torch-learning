{
 "cells": [
  {
   "cell_type": "code",
   "execution_count": 26,
   "id": "ca6b8e28",
   "metadata": {},
   "outputs": [
    {
     "name": "stdout",
     "output_type": "stream",
     "text": [
      "['./dataset/data/names/Arabic.txt', './dataset/data/names/Chinese.txt', './dataset/data/names/Czech.txt', './dataset/data/names/Dutch.txt', './dataset/data/names/English.txt', './dataset/data/names/French.txt', './dataset/data/names/German.txt', './dataset/data/names/Greek.txt', './dataset/data/names/Irish.txt', './dataset/data/names/Italian.txt', './dataset/data/names/Japanese.txt', './dataset/data/names/Korean.txt', './dataset/data/names/Polish.txt', './dataset/data/names/Portuguese.txt', './dataset/data/names/Russian.txt', './dataset/data/names/Scottish.txt', './dataset/data/names/Spanish.txt', './dataset/data/names/Vietnamese.txt']\n"
     ]
    }
   ],
   "source": [
    "import glob\n",
    "\n",
    "all_filenames = glob.glob('./dataset/data/names/*.txt')\n",
    "print(all_filenames)"
   ]
  },
  {
   "cell_type": "code",
   "execution_count": 2,
   "id": "13da1c4b",
   "metadata": {},
   "outputs": [
    {
     "name": "stdout",
     "output_type": "stream",
     "text": [
      "Slusarski\n"
     ]
    }
   ],
   "source": [
    "import unicodedata\n",
    "import string\n",
    "\n",
    "all_letters = string.ascii_letters + \" .,;'\"\n",
    "n_letters = len(all_letters)\n",
    "\n",
    "def unicode_to_ascii(s):\n",
    "    return ''.join(\n",
    "        c for c in unicodedata.normalize('NFD', s)\n",
    "        if unicodedata.category(c) != 'Mn'\n",
    "        and c in all_letters\n",
    "    )\n",
    "\n",
    "print(unicode_to_ascii('Ślusàrski'))"
   ]
  },
  {
   "cell_type": "code",
   "execution_count": 3,
   "id": "4b3f84a1",
   "metadata": {},
   "outputs": [
    {
     "name": "stdout",
     "output_type": "stream",
     "text": [
      "n_categories = 18\n"
     ]
    }
   ],
   "source": [
    "category_lines = {}\n",
    "all_categories = []\n",
    "\n",
    "def readLines(filename):\n",
    "    lines = open(filename).read().strip().split('\\n')\n",
    "    return [unicode_to_ascii(line) for line in lines]\n",
    "\n",
    "for filename in all_filenames:\n",
    "    category = filename.split('/')[-1].split('.')[0]\n",
    "    all_categories.append(category)\n",
    "    lines = readLines(filename)\n",
    "    category_lines[category] = lines\n",
    "    \n",
    "n_categories = len(all_categories)\n",
    "print('n_categories =', n_categories)"
   ]
  },
  {
   "cell_type": "code",
   "execution_count": 4,
   "id": "6cacd62b",
   "metadata": {},
   "outputs": [
    {
     "name": "stdout",
     "output_type": "stream",
     "text": [
      "['Abandonato', 'Abatangelo', 'Abatantuono', 'Abate', 'Abategiovanni']\n"
     ]
    }
   ],
   "source": [
    "print(category_lines['Italian'][:5])"
   ]
  },
  {
   "cell_type": "code",
   "execution_count": 5,
   "id": "3cf03418",
   "metadata": {},
   "outputs": [],
   "source": [
    "import torch\n",
    "\n",
    "def letter_to_tensor(letter):\n",
    "    tensor = torch.zeros(1, n_letters)\n",
    "    letter_index = all_letters.find(letter)\n",
    "    tensor[0][letter_index] = 1\n",
    "    return tensor\n",
    "\n",
    "def line_to_tensor(line):\n",
    "    tensor = torch.zeros(len(line), 1, n_letters)\n",
    "    for li, letter in enumerate(line):\n",
    "        letter_index = all_letters.find(letter)\n",
    "        tensor[li][0][letter_index] = 1\n",
    "    return tensor"
   ]
  },
  {
   "cell_type": "code",
   "execution_count": 6,
   "id": "7598d7d4",
   "metadata": {},
   "outputs": [
    {
     "name": "stdout",
     "output_type": "stream",
     "text": [
      "tensor([[0., 0., 0., 0., 0., 0., 0., 0., 0., 0., 0., 0., 0., 0., 0., 0., 0., 0.,\n",
      "         0., 0., 0., 0., 0., 0., 0., 0., 0., 0., 0., 0., 0., 0., 0., 0., 0., 1.,\n",
      "         0., 0., 0., 0., 0., 0., 0., 0., 0., 0., 0., 0., 0., 0., 0., 0., 0., 0.,\n",
      "         0., 0., 0.]])\n"
     ]
    }
   ],
   "source": [
    "print(letter_to_tensor('J'))"
   ]
  },
  {
   "cell_type": "code",
   "execution_count": 7,
   "id": "60324c89",
   "metadata": {},
   "outputs": [
    {
     "name": "stdout",
     "output_type": "stream",
     "text": [
      "torch.Size([5, 1, 57])\n"
     ]
    }
   ],
   "source": [
    "print(line_to_tensor('Jones').size())"
   ]
  },
  {
   "cell_type": "code",
   "execution_count": 8,
   "id": "e9d0cb94",
   "metadata": {},
   "outputs": [],
   "source": [
    "from torch import nn\n",
    "from torch.autograd import Variable\n",
    "\n",
    "class MyRNN(nn.Module):\n",
    "    def __init__(self, input_size, hidden_size, output_size):\n",
    "        super().__init__()\n",
    "        self.input_size = input_size\n",
    "        self.hidden_size = hidden_size\n",
    "        self.output_size = output_size\n",
    "        \n",
    "        self.rnn = nn.RNN(input_size, hidden_size)\n",
    "        self.fc = nn.Linear(hidden_size, output_size)\n",
    "        \n",
    "    def forward(self, input, hidden):\n",
    "        out, hidden = self.rnn(input, hidden)\n",
    "        out = self.fc(out[-1])\n",
    "        return out, hidden\n",
    "    \n",
    "    def init_hidden(self):\n",
    "        return torch.zeros(1, 1, self.hidden_size)\n",
    "\n",
    "\n",
    "n_hidden = 128\n",
    "rnn = MyRNN(n_letters, n_hidden, n_categories)"
   ]
  },
  {
   "cell_type": "code",
   "execution_count": 12,
   "id": "c364d49d",
   "metadata": {},
   "outputs": [
    {
     "name": "stdout",
     "output_type": "stream",
     "text": [
      "torch.Size([5, 3, 20]) torch.Size([1, 3, 20])\n"
     ]
    }
   ],
   "source": [
    "# rnn = nn.RNN(10, 20, 1)\n",
    "# input = torch.randn(5, 3, 10)\n",
    "# h0 = torch.randn(1, 3, 20)\n",
    "# output, hn = rnn(input, h0)\n",
    "# print(output.size(), hn.size())"
   ]
  },
  {
   "cell_type": "code",
   "execution_count": 9,
   "id": "b15445eb",
   "metadata": {},
   "outputs": [
    {
     "name": "stdout",
     "output_type": "stream",
     "text": [
      "output.size = torch.Size([1, 18])\n",
      "tensor([[-0.0679, -0.0016,  0.0725,  0.0135, -0.0289, -0.1219,  0.0894, -0.0513,\n",
      "         -0.1230, -0.0168, -0.0281,  0.0885,  0.1141,  0.0011,  0.1258,  0.0274,\n",
      "         -0.0056, -0.0495]], grad_fn=<AddmmBackward>)\n"
     ]
    }
   ],
   "source": [
    "input = line_to_tensor('Albert')\n",
    "hidden = rnn.init_hidden()\n",
    "\n",
    "output, next_hidden = rnn(input[0:3], hidden)\n",
    "print('output.size =', output.size())\n",
    "print(output)"
   ]
  },
  {
   "cell_type": "code",
   "execution_count": 10,
   "id": "6a76d826",
   "metadata": {},
   "outputs": [
    {
     "name": "stdout",
     "output_type": "stream",
     "text": [
      "output.size = torch.Size([1, 18])\n",
      "tensor([[-0.0679, -0.0016,  0.0725,  0.0135, -0.0289, -0.1219,  0.0894, -0.0513,\n",
      "         -0.1230, -0.0168, -0.0281,  0.0885,  0.1141,  0.0011,  0.1258,  0.0274,\n",
      "         -0.0056, -0.0495]], grad_fn=<AddmmBackward>)\n"
     ]
    }
   ],
   "source": [
    "input = line_to_tensor('Albert')\n",
    "hidden = rnn.init_hidden()\n",
    "\n",
    "output, next_hidden = rnn(input[0:1], hidden)\n",
    "output, next_hidden = rnn(input[1:2], next_hidden)\n",
    "output, next_hidden = rnn(input[2:3], next_hidden)\n",
    "print('output.size =', output.size())\n",
    "print(output)"
   ]
  },
  {
   "cell_type": "code",
   "execution_count": 25,
   "id": "ba795f39",
   "metadata": {},
   "outputs": [
    {
     "name": "stdout",
     "output_type": "stream",
     "text": [
      "torch.Size([6, 1, 5]) torch.Size([1, 1, 5])\n",
      "tensor([[[ 0.9899,  0.1842, -0.0149, -0.8694,  0.4499]],\n",
      "\n",
      "        [[-0.1052, -0.8922,  0.2761, -0.0296, -0.5678]],\n",
      "\n",
      "        [[ 0.3770, -0.8517,  0.3580,  0.5489,  0.2375]],\n",
      "\n",
      "        [[-0.1232, -0.5432, -0.3956,  0.7539,  0.2906]],\n",
      "\n",
      "        [[ 0.6723, -0.9468,  0.7891, -0.5991, -0.7210]],\n",
      "\n",
      "        [[-0.2315, -0.7817,  0.1516,  0.8883,  0.6130]]],\n",
      "       grad_fn=<StackBackward>)\n",
      "tensor([[[-0.2315, -0.7817,  0.1516,  0.8883,  0.6130]]],\n",
      "       grad_fn=<StackBackward>)\n"
     ]
    }
   ],
   "source": [
    "rnn = nn.RNN(3, 5, 1)\n",
    "input = torch.randn(6, 1, 3)\n",
    "h0 = torch.randn(1, 1, 5)\n",
    "output, hn = rnn(input, h0)\n",
    "print(output.size(), hn.size())\n",
    "print(output)\n",
    "print(hn)"
   ]
  },
  {
   "cell_type": "code",
   "execution_count": 11,
   "id": "2cbafdbc",
   "metadata": {},
   "outputs": [
    {
     "name": "stdout",
     "output_type": "stream",
     "text": [
      "('Russian', tensor(14))\n"
     ]
    }
   ],
   "source": [
    "def category_from_output(output):\n",
    "    top_n, top_i = output.data.topk(1)\n",
    "    category_i = top_i[0][0]\n",
    "    return all_categories[category_i], category_i\n",
    "print(category_from_output(output))"
   ]
  },
  {
   "cell_type": "code",
   "execution_count": 12,
   "id": "1cc13de5",
   "metadata": {},
   "outputs": [
    {
     "name": "stdout",
     "output_type": "stream",
     "text": [
      "category = Spanish / line = Quinones\n",
      "category = German / line = Gerber\n",
      "category = Japanese / line = Shikuk\n",
      "category = Scottish / line = Macleod\n",
      "category = Japanese / line = Erizawa\n",
      "category = German / line = Krantz\n",
      "category = Polish / line = Stawski\n",
      "category = Czech / line = Doljs\n",
      "category = Irish / line = Sluaghadhan\n",
      "category = German / line = Herbert\n"
     ]
    }
   ],
   "source": [
    "import random\n",
    "\n",
    "def random_training_pair():\n",
    "    category = random.choice(all_categories)\n",
    "    line = random.choice(category_lines[category])\n",
    "    category_tensor = torch.LongTensor([all_categories.index(category)])\n",
    "    line_tensor = line_to_tensor(line)\n",
    "    return category, line, category_tensor, line_tensor\n",
    "\n",
    "for i in range(10):\n",
    "    category, line, category_tensor, line_tensor = random_training_pair()\n",
    "    print('category =', category, '/ line =', line)"
   ]
  },
  {
   "cell_type": "code",
   "execution_count": 13,
   "id": "a36a4586",
   "metadata": {},
   "outputs": [],
   "source": [
    "criterion = nn.CrossEntropyLoss()"
   ]
  },
  {
   "cell_type": "code",
   "execution_count": 14,
   "id": "90e60918",
   "metadata": {},
   "outputs": [],
   "source": [
    "learning_rate = 0.005\n",
    "optimizer = torch.optim.SGD(rnn.parameters(), lr=learning_rate)"
   ]
  },
  {
   "cell_type": "code",
   "execution_count": 15,
   "id": "f7df4d13",
   "metadata": {},
   "outputs": [],
   "source": [
    "def train(category_tensor, line_tensor):\n",
    "    rnn.zero_grad()\n",
    "    hidden = rnn.init_hidden()\n",
    "    \n",
    "    output, hidden = rnn(line_tensor, hidden)\n",
    "    loss = criterion(output, category_tensor)\n",
    "    #for i in range(line_tensor.size()[0]):\n",
    "    #    output, hidden = rnn(line_tensor[i:i+1], hidden)\n",
    "    #loss = criterion(output, category_tensor)\n",
    "    \n",
    "    loss.backward()\n",
    "    \n",
    "    optimizer.step()\n",
    "    \n",
    "    return output, loss.item()"
   ]
  },
  {
   "cell_type": "code",
   "execution_count": 16,
   "id": "c429bdef",
   "metadata": {},
   "outputs": [
    {
     "name": "stdout",
     "output_type": "stream",
     "text": [
      "5000 1% (0m 4s) 3.3007 Saji / Korean ✗ (Japanese)\n",
      "10000 3% (0m 8s) 2.1797 Lysenko / Italian ✗ (Russian)\n",
      "15000 5% (0m 12s) 2.0207 Pae / Chinese ✗ (Korean)\n",
      "20000 6% (0m 17s) 2.0458 Tze / Korean ✗ (Chinese)\n",
      "25000 8% (0m 21s) 0.2896 Andrysiak / Polish ✓\n",
      "30000 10% (0m 25s) 0.2468 Anderson / Scottish ✓\n",
      "35000 11% (0m 29s) 0.2406 Sarraf / Arabic ✓\n",
      "40000 13% (0m 34s) 0.6226 Zhang / Chinese ✓\n",
      "45000 15% (0m 38s) 1.2206 Brauer / German ✓\n",
      "50000 16% (0m 42s) 0.3973 Zientek / Polish ✓\n",
      "55000 18% (0m 47s) 0.7386 Seto / Chinese ✓\n",
      "60000 20% (0m 51s) 4.8692 Morri / Italian ✗ (Japanese)\n",
      "65000 21% (0m 55s) 1.8922 Simon / Irish ✗ (Dutch)\n",
      "70000 23% (0m 59s) 0.1284 Palladino / Italian ✓\n",
      "75000 25% (1m 4s) 2.4202 Chong / Vietnamese ✗ (Korean)\n",
      "80000 26% (1m 8s) 0.1171 Kozlow / Polish ✓\n",
      "85000 28% (1m 12s) 0.9793 Borghi / Japanese ✗ (Italian)\n",
      "90000 30% (1m 16s) 0.5006 Sartre / French ✓\n",
      "95000 31% (1m 21s) 0.8678 Furst / German ✓\n",
      "100000 33% (1m 25s) 0.2380 Dziadik / Czech ✓\n",
      "105000 35% (1m 29s) 1.9441 Bilias / Czech ✗ (Greek)\n",
      "110000 36% (1m 34s) 1.2993 Savatier / French ✓\n",
      "115000 38% (1m 38s) 0.1836 Peeters / Dutch ✓\n",
      "120000 40% (1m 42s) 4.1365 Adair / Arabic ✗ (English)\n",
      "125000 41% (1m 46s) 0.0305 Pereira / Portuguese ✓\n",
      "130000 43% (1m 51s) 0.0536 Abramowich / Russian ✓\n",
      "135000 45% (1m 55s) 0.0048 Pasternack / Polish ✓\n",
      "140000 46% (1m 59s) 0.6932 Adamou / Greek ✓\n",
      "145000 48% (2m 4s) 0.0003 Khoury / Arabic ✓\n",
      "150000 50% (2m 8s) 1.7886 Falsh / Irish ✗ (English)\n",
      "155000 51% (2m 12s) 5.0255 Kumar / Czech ✗ (English)\n",
      "160000 53% (2m 16s) 0.0047 Campos / Portuguese ✓\n",
      "165000 55% (2m 21s) 6.2562 Christie / Scottish ✗ (English)\n",
      "170000 56% (2m 25s) 0.0344 Samios / Greek ✓\n",
      "175000 58% (2m 29s) 0.0589 Docherty / Scottish ✓\n",
      "180000 60% (2m 34s) 0.1859 Oh  / Korean ✓\n",
      "185000 61% (2m 38s) 0.5348 Cann / Dutch ✓\n",
      "190000 63% (2m 42s) 0.0034 OwYang / Chinese ✓\n",
      "195000 65% (2m 47s) 1.3978 Albuquerque / Portuguese ✓\n",
      "200000 66% (2m 51s) 0.0627 Ryu / Korean ✓\n",
      "205000 68% (2m 55s) 0.2481 Adenauer / German ✓\n",
      "210000 70% (2m 59s) 0.5753 Garza / Spanish ✓\n",
      "215000 71% (3m 4s) 0.2527 Sleiman / Arabic ✓\n",
      "220000 73% (3m 8s) 0.7013 Matsievich / Russian ✓\n",
      "225000 75% (3m 12s) 0.0095 Bishara / Arabic ✓\n",
      "230000 76% (3m 16s) 0.2130 Kroger / German ✓\n",
      "235000 78% (3m 21s) 0.1436 Buonarroti / Italian ✓\n",
      "240000 80% (3m 25s) 0.6665 Gordon / Scottish ✓\n",
      "245000 81% (3m 29s) 0.9458 Shaw / Scottish ✓\n",
      "250000 83% (3m 34s) 0.0838 Murchadh / Irish ✓\n",
      "255000 85% (3m 38s) 3.3352 Aggelen / French ✗ (Dutch)\n",
      "260000 86% (3m 42s) 0.0334 Aarle / Dutch ✓\n",
      "265000 88% (3m 46s) 1.1206 Frank / Scottish ✗ (German)\n",
      "270000 90% (3m 51s) 0.0572 Chavez / Spanish ✓\n",
      "275000 91% (3m 55s) 0.1172 Braden / Irish ✓\n",
      "280000 93% (3m 59s) 0.0713 Gan / Chinese ✓\n",
      "285000 95% (4m 3s) 0.0321 Kafka / Czech ✓\n",
      "290000 96% (4m 8s) 0.0053 Guo / Chinese ✓\n",
      "295000 98% (4m 12s) 0.0007 Himichev / Russian ✓\n",
      "300000 100% (4m 16s) 0.0012 She / Chinese ✓\n"
     ]
    }
   ],
   "source": [
    "import time\n",
    "import math\n",
    "\n",
    "n_epochs = 300000\n",
    "print_every = 5000\n",
    "plot_every = 1000\n",
    "\n",
    "# Keep track of losses for plotting\n",
    "current_loss = 0\n",
    "all_losses = []\n",
    "\n",
    "def time_since(since):\n",
    "    now = time.time()\n",
    "    s = now - since\n",
    "    m = math.floor(s / 60)\n",
    "    s -= m * 60\n",
    "    return '%dm %ds' % (m, s)\n",
    "\n",
    "start = time.time()\n",
    "\n",
    "for epoch in range(1, n_epochs + 1):\n",
    "    # Get a random training input and target\n",
    "    category, line, category_tensor, line_tensor = random_training_pair()\n",
    "    output, loss = train(category_tensor, line_tensor)\n",
    "    current_loss += loss\n",
    "    \n",
    "    # Print epoch number, loss, name and guess\n",
    "    if epoch % print_every == 0:\n",
    "        guess, guess_i = category_from_output(output)\n",
    "        correct = '✓' if guess == category else '✗ (%s)' % category\n",
    "        print('%d %d%% (%s) %.4f %s / %s %s' % (epoch, epoch / n_epochs * 100, time_since(start), loss, line, guess, correct))\n",
    "\n",
    "    # Add current loss avg to list of losses\n",
    "    if epoch % plot_every == 0:\n",
    "        all_losses.append(current_loss / plot_every)\n",
    "        current_loss = 0"
   ]
  },
  {
   "cell_type": "code",
   "execution_count": 17,
   "id": "69619b0d",
   "metadata": {
    "scrolled": true
   },
   "outputs": [
    {
     "data": {
      "text/plain": [
       "[<matplotlib.lines.Line2D at 0x7fa6587d95b0>]"
      ]
     },
     "execution_count": 17,
     "metadata": {},
     "output_type": "execute_result"
    },
    {
     "data": {
      "image/png": "[encoded data removed]",
      "text/plain": [
       "<Figure size 432x288 with 1 Axes>"
      ]
     },
     "metadata": {
      "needs_background": "light"
     },
     "output_type": "display_data"
    }
   ],
   "source": [
    "import matplotlib.pyplot as plt\n",
    "import matplotlib.ticker as ticker\n",
    "%matplotlib inline\n",
    "\n",
    "plt.figure()\n",
    "plt.plot(all_losses)"
   ]
  },
  {
   "cell_type": "code",
   "execution_count": 18,
   "id": "5e76b926",
   "metadata": {},
   "outputs": [
    {
     "name": "stderr",
     "output_type": "stream",
     "text": [
      "<ipython-input-18-8df22caf34eb>:34: UserWarning: FixedFormatter should only be used together with FixedLocator\n",
      "  ax.set_xticklabels([''] + all_categories, rotation=90)\n",
      "<ipython-input-18-8df22caf34eb>:35: UserWarning: FixedFormatter should only be used together with FixedLocator\n",
      "  ax.set_yticklabels([''] + all_categories)\n"
     ]
    },
    {
     "data": {
      "image/png": "[encoded data removed]",
      "text/plain": [
       "<Figure size 432x288 with 2 Axes>"
      ]
     },
     "metadata": {
      "needs_background": "light"
     },
     "output_type": "display_data"
    }
   ],
   "source": [
    "# Keep track of correct guesses in a confusion matrix\n",
    "confusion = torch.zeros(n_categories, n_categories)\n",
    "n_confusion = 10000\n",
    "\n",
    "# Just return an output given a line\n",
    "def evaluate(line_tensor):\n",
    "    hidden = rnn.init_hidden()\n",
    "    \n",
    "    output, hidden = rnn(line_tensor, hidden)\n",
    "    #for i in range(line_tensor.size()[0]):\n",
    "    #    output, hidden = rnn(line_tensor[i:i+1], hidden)\n",
    "    \n",
    "    return output\n",
    "\n",
    "# Go through a bunch of examples and record which are correctly guessed\n",
    "for i in range(n_confusion):\n",
    "    category, line, category_tensor, line_tensor = random_training_pair()\n",
    "    output = evaluate(line_tensor)\n",
    "    guess, guess_i = category_from_output(output)\n",
    "    category_i = all_categories.index(category)\n",
    "    confusion[category_i][guess_i] += 1\n",
    "\n",
    "# Normalize by dividing every row by its sum\n",
    "for i in range(n_categories):\n",
    "    confusion[i] = confusion[i] / confusion[i].sum()\n",
    "\n",
    "# Set up plot\n",
    "fig = plt.figure()\n",
    "ax = fig.add_subplot(111)\n",
    "cax = ax.matshow(confusion.numpy())\n",
    "fig.colorbar(cax)\n",
    "\n",
    "# Set up axes\n",
    "ax.set_xticklabels([''] + all_categories, rotation=90)\n",
    "ax.set_yticklabels([''] + all_categories)\n",
    "\n",
    "# Force label at every tick\n",
    "ax.xaxis.set_major_locator(ticker.MultipleLocator(1))\n",
    "ax.yaxis.set_major_locator(ticker.MultipleLocator(1))\n",
    "\n",
    "plt.show()"
   ]
  },
  {
   "cell_type": "code",
   "execution_count": 19,
   "id": "6e6cc6b0",
   "metadata": {},
   "outputs": [
    {
     "name": "stderr",
     "output_type": "stream",
     "text": [
      "<ipython-input-19-eebe9349d529>:34: UserWarning: FixedFormatter should only be used together with FixedLocator\n",
      "  ax.set_xticklabels([''] + all_categories, rotation=90)\n",
      "<ipython-input-19-eebe9349d529>:35: UserWarning: FixedFormatter should only be used together with FixedLocator\n",
      "  ax.set_yticklabels([''] + all_categories)\n"
     ]
    },
    {
     "data": {
      "image/png": "[encoded data removed]",
      "text/plain": [
       "<Figure size 432x288 with 2 Axes>"
      ]
     },
     "metadata": {
      "needs_background": "light"
     },
     "output_type": "display_data"
    }
   ],
   "source": [
    "# Keep track of correct guesses in a confusion matrix\n",
    "confusion = torch.zeros(n_categories, n_categories)\n",
    "n_confusion = 10000\n",
    "\n",
    "# Just return an output given a line\n",
    "def evaluate(line_tensor):\n",
    "    hidden = rnn.init_hidden()\n",
    "    \n",
    "    #output, hidden = rnn(line_tensor, hidden)\n",
    "    for i in range(line_tensor.size()[0]):\n",
    "        output, hidden = rnn(line_tensor[i:i+1], hidden)\n",
    "    \n",
    "    return output\n",
    "\n",
    "# Go through a bunch of examples and record which are correctly guessed\n",
    "for i in range(n_confusion):\n",
    "    category, line, category_tensor, line_tensor = random_training_pair()\n",
    "    output = evaluate(line_tensor)\n",
    "    guess, guess_i = category_from_output(output)\n",
    "    category_i = all_categories.index(category)\n",
    "    confusion[category_i][guess_i] += 1\n",
    "\n",
    "# Normalize by dividing every row by its sum\n",
    "for i in range(n_categories):\n",
    "    confusion[i] = confusion[i] / confusion[i].sum()\n",
    "\n",
    "# Set up plot\n",
    "fig = plt.figure()\n",
    "ax = fig.add_subplot(111)\n",
    "cax = ax.matshow(confusion.numpy())\n",
    "fig.colorbar(cax)\n",
    "\n",
    "# Set up axes\n",
    "ax.set_xticklabels([''] + all_categories, rotation=90)\n",
    "ax.set_yticklabels([''] + all_categories)\n",
    "\n",
    "# Force label at every tick\n",
    "ax.xaxis.set_major_locator(ticker.MultipleLocator(1))\n",
    "ax.yaxis.set_major_locator(ticker.MultipleLocator(1))\n",
    "\n",
    "plt.show()"
   ]
  },
  {
   "cell_type": "markdown",
   "id": "9020bf75",
   "metadata": {},
   "source": [
    "\n",
    "\n",
    "---"
   ]
  },
  {
   "cell_type": "code",
   "execution_count": 1,
   "id": "2c40dcd2",
   "metadata": {},
   "outputs": [],
   "source": [
    "import glob\n",
    "import os\n",
    "import unicodedata\n",
    "import string"
   ]
  },
  {
   "cell_type": "code",
   "execution_count": 2,
   "id": "6e154c24",
   "metadata": {},
   "outputs": [],
   "source": [
    "all_letters = string.ascii_letters + \" ,.;'-\"\n",
    "n_letters = len(all_letters) + 1"
   ]
  },
  {
   "cell_type": "code",
   "execution_count": 3,
   "id": "028508cd",
   "metadata": {},
   "outputs": [],
   "source": [
    "def findFiles(path):\n",
    "    return glob.glob(path)\n",
    "\n",
    "def unicodeToAscii(s):\n",
    "    return ''.join(\n",
    "        c for c in unicodedata.normalize('NFD', s)\n",
    "        if unicodedata.category(c) != 'Mn' and c in all_letters\n",
    "    )"
   ]
  },
  {
   "cell_type": "code",
   "execution_count": 4,
   "id": "d0024291",
   "metadata": {},
   "outputs": [
    {
     "name": "stdout",
     "output_type": "stream",
     "text": [
      "# categories: 18 ['Arabic', 'Chinese', 'Czech', 'Dutch', 'English', 'French', 'German', 'Greek', 'Irish', 'Italian', 'Japanese', 'Korean', 'Polish', 'Portuguese', 'Russian', 'Scottish', 'Spanish', 'Vietnamese']\n"
     ]
    }
   ],
   "source": [
    "def readLines(filename):\n",
    "    with open(filename, encoding='utf-8') as f:\n",
    "        return [unicodeToAscii(line.strip()) for line in f]\n",
    "    \n",
    "category_lines = {}\n",
    "all_categories = []\n",
    "\n",
    "for filename in findFiles('./dataset/data/names/*.txt'):\n",
    "    category = filename.split('/')[-1].split('.')[0]\n",
    "    all_categories.append(category)\n",
    "    lines = readLines(filename)\n",
    "    category_lines[category] = lines\n",
    "\n",
    "n_categories = len(all_categories)\n",
    "print('# categories:', n_categories, all_categories)"
   ]
  },
  {
   "cell_type": "code",
   "execution_count": null,
   "id": "96c8a552",
   "metadata": {},
   "outputs": [],
   "source": []
  },
  {
   "cell_type": "code",
   "execution_count": 79,
   "id": "acc33dc9",
   "metadata": {},
   "outputs": [
    {
     "name": "stdout",
     "output_type": "stream",
     "text": [
      "tensor([[[-0.0523, -0.4751,  0.0505],\n",
      "         [-0.3998, -0.2424,  0.1636]],\n",
      "\n",
      "        [[ 0.1136, -0.3510,  0.1546],\n",
      "         [-0.2555, -0.4396,  0.0487]],\n",
      "\n",
      "        [[-0.4645, -0.2324, -0.0772],\n",
      "         [-0.1068, -0.4025,  0.4067]]], grad_fn=<AddBackward0>)\n",
      "tensor(0.7027, grad_fn=<NllLoss2DBackward>)\n",
      "tensor([[ 0.0004,  0.0321,  0.0120, -0.0485,  0.0009,  0.0072, -0.0264, -0.0194,\n",
      "          0.0134, -0.0035],\n",
      "        [-0.0180,  0.0263,  0.0323, -0.0254,  0.0212,  0.0617,  0.0631,  0.0075,\n",
      "          0.0025,  0.0622],\n",
      "        [ 0.0568, -0.0433, -0.0200,  0.1126,  0.0317, -0.0490, -0.0358,  0.0555,\n",
      "          0.0875, -0.0139]])\n"
     ]
    }
   ],
   "source": [
    "fc = nn.Linear(10, 3)\n",
    "input = torch.rand(3, 2, 10)\n",
    "output = fc(input)\n",
    "print(output)\n",
    "\n",
    "target = torch.tensor([[0, 1, 1], [1, 0, 1], [1, 1, 0]], dtype=torch.long)\n",
    "loss = nn.CrossEntropyLoss()\n",
    "\n",
    "l = loss(output, target)\n",
    "l.backward()\n",
    "print(l)\n",
    "print(fc.weight.grad)"
   ]
  },
  {
   "cell_type": "code",
   "execution_count": 80,
   "id": "36688c7e",
   "metadata": {},
   "outputs": [
    {
     "name": "stdout",
     "output_type": "stream",
     "text": [
      "tensor([[[-0.0523, -0.4751,  0.0505],\n",
      "         [-0.3998, -0.2424,  0.1636]],\n",
      "\n",
      "        [[ 0.1136, -0.3510,  0.1546],\n",
      "         [-0.2555, -0.4396,  0.0487]],\n",
      "\n",
      "        [[-0.4645, -0.2324, -0.0772],\n",
      "         [-0.1068, -0.4025,  0.4067]]], grad_fn=<StackBackward>)\n"
     ]
    }
   ],
   "source": [
    "fc.zero_grad()\n",
    "\n",
    "output = torch.stack([fc(i) for i in input], 0)\n",
    "print(output)\n",
    "\n",
    "#l = torch.sum([loss(o, t) for o, t in zip(output, target)])\n",
    "#l.backward()\n",
    "\n",
    "#print(fc.weight.grad)"
   ]
  },
  {
   "cell_type": "code",
   "execution_count": 90,
   "id": "b566f111",
   "metadata": {},
   "outputs": [
    {
     "name": "stdout",
     "output_type": "stream",
     "text": [
      "tensor([[[-0.0523, -0.4751,  0.0505],\n",
      "         [-0.3998, -0.2424,  0.1636]],\n",
      "\n",
      "        [[ 0.1136, -0.3510,  0.1546],\n",
      "         [-0.2555, -0.4396,  0.0487]],\n",
      "\n",
      "        [[-0.4645, -0.2324, -0.0772],\n",
      "         [-0.1068, -0.4025,  0.4067]]], grad_fn=<StackBackward>)\n",
      "tensor(2.4808, grad_fn=<SumBackward0>)\n",
      "tensor([[ 0.0455,  0.0209, -0.0596, -0.1032, -0.0136, -0.1299, -0.0956, -0.0121,\n",
      "         -0.0131, -0.1578],\n",
      "        [-0.3888, -0.4810, -0.3631, -0.3243, -0.4702, -0.2636, -0.3845, -0.5799,\n",
      "         -0.3260, -0.2694],\n",
      "        [ 0.3434,  0.4601,  0.4227,  0.4275,  0.4838,  0.3936,  0.4801,  0.5920,\n",
      "          0.3391,  0.4272]])\n"
     ]
    }
   ],
   "source": [
    "fc.zero_grad()\n",
    "\n",
    "output = torch.stack([fc(input[:,i,:]) for i in range(input.size(1))], 1)\n",
    "print(output)\n",
    "\n",
    "l = torch.sum(torch.stack([loss(output.swapaxes(0,1)[i], target.swapaxes(0,1)[i]) for i in range(input.size(1))]))\n",
    "l.backward()\n",
    "print(l)\n",
    "print(fc.weight.grad)"
   ]
  },
  {
   "cell_type": "code",
   "execution_count": null,
   "id": "442a9136",
   "metadata": {},
   "outputs": [],
   "source": []
  },
  {
   "cell_type": "code",
   "execution_count": 5,
   "id": "89bd85e5",
   "metadata": {},
   "outputs": [],
   "source": [
    "import torch\n",
    "from torch import nn\n",
    "\n",
    "class MyRNN2(nn.Module):\n",
    "    def __init__(self, input_size, hidden_size, output_size):\n",
    "        super().__init__()\n",
    "        self.hidden_size = hidden_size\n",
    "        self.input_size = input_size\n",
    "        self.output_size = output_size\n",
    "        \n",
    "        self.rnn = nn.RNN(input_size, hidden_size)\n",
    "        self.fc = nn.Linear(hidden_size, output_size)\n",
    "    \n",
    "    def forward(self, input, hidden):\n",
    "        out, hidden = self.rnn(input, hidden)\n",
    "        #out = torch.stack([self.fc(o) for o in out])\n",
    "        out = self.fc(out)\n",
    "        return out, hidden\n",
    "    \n",
    "    def initHidden(self):\n",
    "        return torch.zeros(1, 1, self.hidden_size)"
   ]
  },
  {
   "cell_type": "code",
   "execution_count": 6,
   "id": "d46c69cd",
   "metadata": {},
   "outputs": [],
   "source": [
    "import random\n",
    "\n",
    "def randomChoice(l):\n",
    "    return l[random.randint(0, len(l) - 1)]\n",
    "\n",
    "def randomTrainingPair():\n",
    "    category = randomChoice(all_categories)\n",
    "    line = randomChoice(category_lines[category])\n",
    "    return category, line"
   ]
  },
  {
   "cell_type": "code",
   "execution_count": 7,
   "id": "cf6e5354",
   "metadata": {},
   "outputs": [],
   "source": [
    "def categoryTensor(category):\n",
    "    li = all_categories.index(category)\n",
    "    tensor = torch.zeros(1, n_categories)\n",
    "    tensor[0][li] = 1\n",
    "    return tensor\n",
    "\n",
    "def inputTensor(line):\n",
    "    tensor = torch.zeros(len(line), 1, n_letters)\n",
    "    for li in range(len(line)):\n",
    "        letter = line[li]\n",
    "        tensor[li][0][all_letters.find(letter)] = 1\n",
    "    return tensor\n",
    "\n",
    "def targetTensor(line):\n",
    "    letter_indexes = [all_letters.find(line[li]) for li in range(1, len(line))]\n",
    "    letter_indexes.append(n_letters - 1)\n",
    "    return torch.LongTensor(letter_indexes)"
   ]
  },
  {
   "cell_type": "code",
   "execution_count": 8,
   "id": "aa9f13f5",
   "metadata": {},
   "outputs": [],
   "source": [
    "def randomTrainingExample():\n",
    "    category, line = randomTrainingPair()\n",
    "    category_tensor = categoryTensor(category)\n",
    "    input_line_tensor = inputTensor(line)\n",
    "    target_line_tensor = targetTensor(line)\n",
    "    # print(category_tensor.size(), input_line_tensor.size())\n",
    "    return torch.cat((torch.stack([category_tensor] * input_line_tensor.size(0)), input_line_tensor), 2), target_line_tensor"
   ]
  },
  {
   "cell_type": "code",
   "execution_count": 36,
   "id": "a087733c",
   "metadata": {},
   "outputs": [],
   "source": [
    "criterion = nn.CrossEntropyLoss(reduction='sum') #改用sum才不會讓短的文字learning rate比較大\n",
    "learning_rate = 0.0005\n",
    "\n",
    "def train(input_tensor, target_line_tensor):\n",
    "    target_line_tensor.unsqueeze_(-1)\n",
    "    hidden = rnn.initHidden()\n",
    "    rnn.zero_grad()\n",
    "    \n",
    "    loss = 0\n",
    "    \n",
    "    output, hidden = rnn(input_tensor, hidden)\n",
    "    output = output.swapaxes(1, 2)\n",
    "    #print(output.size(), target_line_tensor.size())\n",
    "    loss = criterion(output, target_line_tensor)\n",
    "    \n",
    "    #for i in range(input_tensor.size(0)):\n",
    "    #    l = criterion(output[i], target_line_tensor[i])\n",
    "    #    loss += l\n",
    "    \n",
    "    #output.squeeze_(1)\n",
    "    #target_line_tensor.squeeze_(1)\n",
    "    #print(output.size(), target_line_tensor.size())\n",
    "    #loss = criterion(output, target_line_tensor)\n",
    "    \n",
    "    \n",
    "    #for i in range(input_tensor.size(0)):\n",
    "    #    output, hidden = rnn(input_tensor[i:i+1], hidden)\n",
    "        #print(output.size(), target_line_tensor.size())\n",
    "    #    output.squeeze_(0)\n",
    "        #print(output.size(), target_line_tensor.size())\n",
    "\n",
    "    #    l = criterion(output, target_line_tensor[i])\n",
    "    #    loss += l\n",
    "    \n",
    "    \n",
    "    #l.backward()\n",
    "    loss.backward()\n",
    "    \n",
    "    for p in rnn.parameters():\n",
    "        p.data.add_(p.grad.data, alpha=-learning_rate)\n",
    "        \n",
    "    #return output, l.item() / input_tensor.size(0)\n",
    "    return output, loss.item() / input_tensor.size(0)"
   ]
  },
  {
   "cell_type": "code",
   "execution_count": 37,
   "id": "ae95474f",
   "metadata": {},
   "outputs": [],
   "source": [
    "import time\n",
    "import math\n",
    "\n",
    "def timeSince(since):\n",
    "    now = time.time()\n",
    "    s = now - since\n",
    "    m = math.floor(s / 60)\n",
    "    s -= m * 60\n",
    "    return '%dm %ds' % (m, s)\n"
   ]
  },
  {
   "cell_type": "code",
   "execution_count": 38,
   "id": "9dd547fe",
   "metadata": {},
   "outputs": [
    {
     "name": "stdout",
     "output_type": "stream",
     "text": [
      "0m 4s (5000 5%) 2.5165\n",
      "0m 9s (10000 10%) 2.2577\n",
      "0m 13s (15000 15%) 3.7505\n",
      "0m 17s (20000 20%) 2.6485\n",
      "0m 22s (25000 25%) 2.5197\n",
      "0m 26s (30000 30%) 1.9040\n",
      "0m 31s (35000 35%) 2.6226\n",
      "0m 35s (40000 40%) 2.9783\n",
      "0m 40s (45000 45%) 2.1848\n",
      "0m 44s (50000 50%) 1.7740\n",
      "0m 49s (55000 55%) 1.8875\n",
      "0m 53s (60000 60%) 2.2630\n",
      "0m 58s (65000 65%) 1.7307\n",
      "1m 2s (70000 70%) 1.9339\n",
      "1m 7s (75000 75%) 1.9890\n",
      "1m 11s (80000 80%) 2.5054\n",
      "1m 16s (85000 85%) 1.4749\n",
      "1m 20s (90000 90%) 2.2770\n",
      "1m 25s (95000 95%) 2.7747\n",
      "1m 29s (100000 100%) 2.6230\n"
     ]
    }
   ],
   "source": [
    "rnn = MyRNN2(n_categories + n_letters, 128, n_letters)\n",
    "\n",
    "n_iters = 100000\n",
    "print_every = 5000\n",
    "plot_every = 500\n",
    "all_losses = []\n",
    "total_loss = 0 # Reset every plot_every iters\n",
    "\n",
    "start = time.time()\n",
    "\n",
    "for iter in range(1, n_iters + 1):\n",
    "    output, loss = train(*randomTrainingExample())\n",
    "    total_loss += loss\n",
    "\n",
    "    if iter % print_every == 0:\n",
    "        print('%s (%d %d%%) %.4f' % (timeSince(start), iter, iter / n_iters * 100, loss))\n",
    "\n",
    "    if iter % plot_every == 0:\n",
    "        all_losses.append(total_loss / plot_every)\n",
    "        total_loss = 0"
   ]
  },
  {
   "cell_type": "code",
   "execution_count": 39,
   "id": "d6a58f5d",
   "metadata": {},
   "outputs": [
    {
     "data": {
      "text/plain": [
       "[<matplotlib.lines.Line2D at 0x7fddf5fa2d90>]"
      ]
     },
     "execution_count": 39,
     "metadata": {},
     "output_type": "execute_result"
    },
    {
     "data": {
      "image/png": "[encoded data removed]",
      "text/plain": [
       "<Figure size 432x288 with 1 Axes>"
      ]
     },
     "metadata": {
      "needs_background": "light"
     },
     "output_type": "display_data"
    }
   ],
   "source": [
    "import matplotlib.pyplot as plt\n",
    "\n",
    "plt.figure()\n",
    "plt.plot(all_losses)\n"
   ]
  },
  {
   "cell_type": "code",
   "execution_count": 40,
   "id": "7401f2a8",
   "metadata": {},
   "outputs": [
    {
     "name": "stdout",
     "output_type": "stream",
     "text": [
      "Rovakov\n",
      "Uarakov\n",
      "Shavavev\n",
      "Garter\n",
      "Erere\n",
      "Rour\n",
      "Sara\n",
      "Para\n",
      "Aras\n",
      "Chang\n",
      "Han\n",
      "Iun\n"
     ]
    }
   ],
   "source": [
    "max_length = 20\n",
    "\n",
    "# Sample from a category and starting letter\n",
    "def sample(category, start_letter='A'):\n",
    "    with torch.no_grad():  # no need to track history in sampling\n",
    "        category_tensor = categoryTensor(category)\n",
    "        category_tensor.unsqueeze_(0)\n",
    "        input = inputTensor(start_letter)\n",
    "        hidden = rnn.initHidden()\n",
    "\n",
    "        output_name = start_letter\n",
    "\n",
    "        for i in range(max_length):\n",
    "            #print(category_tensor.size(), input.size())\n",
    "            newInput = torch.cat((category_tensor, input), 2)\n",
    "            output, hidden = rnn(newInput, hidden)\n",
    "            #print(output.size())\n",
    "            topv, topi = output.topk(1)\n",
    "            #print(topv, topi)\n",
    "            topi = topi[0][0][0]\n",
    "            if topi == n_letters - 1:\n",
    "                break\n",
    "            else:\n",
    "                letter = all_letters[topi]\n",
    "                output_name += letter\n",
    "            input = inputTensor(letter)\n",
    "\n",
    "        return output_name\n",
    "\n",
    "# Get multiple samples from one category and multiple starting letters\n",
    "def samples(category, start_letters='ABC'):\n",
    "    for start_letter in start_letters:\n",
    "        print(sample(category, start_letter))\n",
    "\n",
    "samples('Russian', 'RUS')\n",
    "\n",
    "samples('German', 'GER')\n",
    "\n",
    "samples('Spanish', 'SPA')\n",
    "\n",
    "samples('Chinese', 'CHI')\n"
   ]
  },
  {
   "cell_type": "code",
   "execution_count": null,
   "id": "82a3451b",
   "metadata": {},
   "outputs": [],
   "source": []
  },
  {
   "cell_type": "code",
   "execution_count": null,
   "id": "ae3cad4d",
   "metadata": {},
   "outputs": [],
   "source": []
  }
 ],
 "metadata": {
  "kernelspec": {
   "display_name": "Python 3",
   "language": "python",
   "name": "python3"
  },
  "language_info": {
   "codemirror_mode": {
    "name": "ipython",
    "version": 3
   },
   "file_extension": ".py",
   "mimetype": "text/x-python",
   "name": "python",
   "nbconvert_exporter": "python",
   "pygments_lexer": "ipython3",
   "version": "3.9.5"
  }
 },
 "nbformat": 4,
 "nbformat_minor": 5
}
