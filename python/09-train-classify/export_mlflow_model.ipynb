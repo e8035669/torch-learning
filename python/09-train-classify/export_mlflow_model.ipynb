{
 "cells": [
  {
   "cell_type": "code",
   "execution_count": 1,
   "id": "d0699550",
   "metadata": {},
   "outputs": [],
   "source": [
    "import torch\n",
    "import mlflow"
   ]
  },
  {
   "cell_type": "code",
   "execution_count": 2,
   "id": "9b7c61f5",
   "metadata": {},
   "outputs": [],
   "source": [
    "cls_name = ['bad', 'good']"
   ]
  },
  {
   "cell_type": "code",
   "execution_count": 3,
   "id": "81d3197b",
   "metadata": {},
   "outputs": [],
   "source": [
    "device = torch.device('cpu')"
   ]
  },
  {
   "cell_type": "code",
   "execution_count": 4,
   "id": "bd9b0ed8",
   "metadata": {},
   "outputs": [],
   "source": [
    "net = torch.load('model_211206.pt', map_location=device)"
   ]
  },
  {
   "cell_type": "code",
   "execution_count": 5,
   "id": "7ae2b67e",
   "metadata": {},
   "outputs": [],
   "source": [
    "import image_pyfunc\n",
    "\n",
    "from importlib import reload\n",
    "image_pyfunc = reload(image_pyfunc)"
   ]
  },
  {
   "cell_type": "code",
   "execution_count": 9,
   "id": "25f23bda",
   "metadata": {},
   "outputs": [],
   "source": [
    "image_pyfunc.save_pytorch_model(net, 'model', (1, 3, 540, 540), cls_name)"
   ]
  },
  {
   "cell_type": "code",
   "execution_count": null,
   "id": "d7647c79",
   "metadata": {},
   "outputs": [],
   "source": []
  },
  {
   "cell_type": "code",
   "execution_count": null,
   "id": "becf8ae4",
   "metadata": {},
   "outputs": [],
   "source": []
  }
 ],
 "metadata": {
  "kernelspec": {
   "display_name": "Python 3 (ipykernel)",
   "language": "python",
   "name": "python3"
  },
  "language_info": {
   "codemirror_mode": {
    "name": "ipython",
    "version": 3
   },
   "file_extension": ".py",
   "mimetype": "text/x-python",
   "name": "python",
   "nbconvert_exporter": "python",
   "pygments_lexer": "ipython3",
   "version": "3.8.10"
  }
 },
 "nbformat": 4,
 "nbformat_minor": 5
}
